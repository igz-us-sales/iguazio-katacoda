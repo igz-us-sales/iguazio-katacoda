{
 "cells": [
  {
   "cell_type": "markdown",
   "metadata": {},
   "source": [
    "### Import mlrun modules"
   ]
  },
  {
   "cell_type": "code",
   "execution_count": null,
   "metadata": {},
   "outputs": [],
   "source": [
    "from mlrun import mlconf,get_or_create_ctx, new_function\n",
    "from mlrun.artifacts import TableArtifact"
   ]
  },
  {
   "cell_type": "markdown",
   "metadata": {},
   "source": [
    "### MLRun api\n",
    "This was pre-deployed for the scenario"
   ]
  },
  {
   "cell_type": "code",
   "execution_count": null,
   "metadata": {},
   "outputs": [],
   "source": [
    "mlconf.dbpath = 'http://mlrun-api:8080'"
   ]
  },
  {
   "cell_type": "markdown",
   "metadata": {},
   "source": [
    "### Here is the code we will execute"
   ]
  },
  {
   "cell_type": "code",
   "execution_count": null,
   "metadata": {},
   "outputs": [],
   "source": [
    "# nuclio: start-code"
   ]
  },
  {
   "cell_type": "code",
   "execution_count": null,
   "metadata": {},
   "outputs": [],
   "source": [
    "def my_job(context):\n",
    "    \n",
    "    # Jobs running with mlrun have access to a context that provides\n",
    "    # information about the execution of a job\n",
    "    # This context is available for a single job or a step in pipeline\n",
    "    mlrun_context = get_or_create_ctx('my_job')\n",
    "    #mlrun_context =   context\n",
    "    # Get parameters\n",
    "    # With the context in place, mlrun keeps track of any parameters\n",
    "    # you used to execute your job \n",
    "    param1 = mlrun_context.get_param('param1',4)\n",
    "    \n",
    "    # Save results to mlrun\n",
    "    mlrun_context.log_result(\"Calulated_Value\",param1*3)\n",
    "    \n",
    "    # Save artifacts from your run\n",
    "    # This functionality supports Plots, tables, models\n",
    "    # For this example we will save a table\n",
    "    mlrun_context.log_artifact(TableArtifact('dataset.csv', '1,2,3\\n4,5,6\\n',\n",
    "                                              header=['A', 'B', 'C']), upload=True)"
   ]
  },
  {
   "cell_type": "code",
   "execution_count": null,
   "metadata": {},
   "outputs": [],
   "source": [
    "# nuclio: end-code"
   ]
  },
  {
   "cell_type": "code",
   "execution_count": null,
   "metadata": {},
   "outputs": [],
   "source": [
    "newfn = new_function()"
   ]
  },
  {
   "cell_type": "code",
   "execution_count": null,
   "metadata": {},
   "outputs": [],
   "source": [
    "artifact_path='/home/jovyan/mlrun/data/artifacts'"
   ]
  },
  {
   "cell_type": "markdown",
   "metadata": {},
   "source": [
    "<a id='sec2'></a>"
   ]
  },
  {
   "cell_type": "code",
   "execution_count": null,
   "metadata": {},
   "outputs": [],
   "source": [
    "train_run = newfn.run(handler=my_job, out_path=artifact_path,params={'param1': 5})"
   ]
  }
 ],
 "metadata": {
  "kernelspec": {
   "display_name": "Python 3",
   "language": "python",
   "name": "python3"
  },
  "language_info": {
   "codemirror_mode": {
    "name": "ipython",
    "version": 3
   },
   "file_extension": ".py",
   "mimetype": "text/x-python",
   "name": "python",
   "nbconvert_exporter": "python",
   "pygments_lexer": "ipython3",
   "version": "3.7.6"
  }
 },
 "nbformat": 4,
 "nbformat_minor": 4
}
